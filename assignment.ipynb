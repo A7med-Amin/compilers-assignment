{
 "cells": [
  {
   "cell_type": "markdown",
   "metadata": {},
   "source": [
    "# Programming Assignment"
   ]
  },
  {
   "cell_type": "markdown",
   "metadata": {},
   "source": [
    "### 1. Libraries"
   ]
  },
  {
   "cell_type": "code",
   "execution_count": 7,
   "metadata": {},
   "outputs": [],
   "source": [
    "import re\n",
    "import networkx as nx"
   ]
  },
  {
   "cell_type": "markdown",
   "metadata": {},
   "source": [
    "\n",
    "### 2. Read the input and check for a valid regex"
   ]
  },
  {
   "cell_type": "code",
   "execution_count": 43,
   "metadata": {},
   "outputs": [
    {
     "data": {
      "text/plain": [
       "re.compile(r'[a-d0-9F]', re.UNICODE)"
      ]
     },
     "execution_count": 43,
     "metadata": {},
     "output_type": "execute_result"
    }
   ],
   "source": [
    "# Read the input from the user \n",
    "input_regex = r\"a?(a|b)*?b\"\n",
    "\n",
    "# Check on the input is a valid regex\n",
    "\n",
    "re.compile(input_regex)\n"
   ]
  },
  {
   "cell_type": "markdown",
   "metadata": {},
   "source": [
    "### 3. Preprocessing \n",
    "<P>Remove square brackets and replace it with <b>OR</b>ing</P>\n",
    "<P>Add concatenation character</P>\n"
   ]
  },
  {
   "cell_type": "code",
   "execution_count": 14,
   "metadata": {},
   "outputs": [],
   "source": [
    "def find_square_bracket_ranges(regex):\n",
    "    ranges = []\n",
    "    start = -1\n",
    "    for i, char in enumerate(regex):\n",
    "        if char == \"[\":\n",
    "            if start == -1:\n",
    "                start = i + 1\n",
    "        elif char == \"]\":\n",
    "            if start != -1:\n",
    "                ranges.append((start, i))\n",
    "                start = -1\n",
    "    return ranges\n",
    "\n",
    "\n",
    "def split_ranges(s: str):\n",
    "    expanded_string = \"\"\n",
    "    it = iter(enumerate(s))\n",
    "    for i, char in it:\n",
    "        if i + 1 != len(s) and s[i + 1] == \"-\":\n",
    "            temp_str = \"\"\n",
    "            start_symbol = char\n",
    "            end_symbol = s[i + 2]\n",
    "            ascii_range = ord(end_symbol) - ord(start_symbol) + 1\n",
    "            for i in range(ascii_range):\n",
    "                temp_str += chr(ord(start_symbol) + i) + \"|\"\n",
    "            expanded_string += temp_str\n",
    "            [next(it) for _ in range(2)]\n",
    "        elif char != \"-\":\n",
    "            expanded_string += char + \"|\"\n",
    "\n",
    "    return expanded_string[:-1]\n",
    "\n",
    "\n",
    "CONCAT_SYMBOL = \"#\"\n",
    "\n",
    "\n",
    "def insert_concat_symbol(regex):\n",
    "    result = \"\"\n",
    "    inside_brackets = False\n",
    "    for i in range(len(regex)):\n",
    "        if regex[i] == \"[\":\n",
    "            inside_brackets = True\n",
    "        elif regex[i] == \"]\":\n",
    "            inside_brackets = False\n",
    "\n",
    "        if (\n",
    "            not inside_brackets\n",
    "            and i < len(regex) - 1\n",
    "            and regex[i] != \"|\"\n",
    "            and regex[i + 1] != \"|\"\n",
    "            and regex[i] != \"(\"\n",
    "            # and regex[i + 1] != \"(\"\n",
    "            # and regex[i] != \")\"\n",
    "            and regex[i + 1] != \")\"\n",
    "            and regex[i] != \"*\"\n",
    "            and regex[i + 1] != \"*\"\n",
    "            and regex[i] != \"+\"\n",
    "            and regex[i + 1] != \"+\"\n",
    "            and regex[i + 1] not in [\"?\", \".\", \"*\", \"|\", \"+\"]\n",
    "            and regex[i] not in [\"?\", \".\", \"*\", \"|\", \"+\"]\n",
    "        ):\n",
    "            result += regex[i] + CONCAT_SYMBOL\n",
    "        else:\n",
    "            result += regex[i]\n",
    "    return result\n",
    "\n",
    "def preprocess_regex(regex):\n",
    "    # Preprocess ranges\n",
    "    ranges = find_square_bracket_ranges(regex)\n",
    "    expanded_ranges = []\n",
    "    for start, end in ranges:\n",
    "        expanded_ranges.append(split_ranges(regex[start:end]))\n",
    "    # Replace ranges with expanded ranges\n",
    "    inside_square_brackets = False\n",
    "    inserted_expanded_range = False\n",
    "    bracket_count = 0\n",
    "    new_regex = \"\"\n",
    "\n",
    "    for char in regex:\n",
    "        if char == \"[\":\n",
    "            bracket_count += 1\n",
    "            inside_square_brackets = True\n",
    "            new_regex += \"(\"\n",
    "        elif char == \"]\":\n",
    "            inside_square_brackets = False\n",
    "            inserted_expanded_range = False\n",
    "            new_regex += \")\"\n",
    "        elif not inside_square_brackets:\n",
    "            new_regex += char\n",
    "        elif inside_square_brackets and not inserted_expanded_range:\n",
    "            new_regex += expanded_ranges[bracket_count - 1]\n",
    "            inserted_expanded_range = True\n",
    "    # new_regex = insert_concat_symbol(new_regex)\n",
    "    print(new_regex)\n",
    "    return new_regex\n"
   ]
  },
  {
   "cell_type": "markdown",
   "metadata": {},
   "source": [
    "### 4. Shunting yard algorithm \n",
    "<P>Convert infix regex to postfix regex</P>"
   ]
  },
  {
   "cell_type": "code",
   "execution_count": 12,
   "metadata": {},
   "outputs": [],
   "source": [
    "def shunting_yard(input_regex):\n",
    "    # Define precedence\n",
    "    \"\"\"\n",
    "        * : 0 or more repetition\n",
    "        + : 1 or more repetition\n",
    "        # : concatenation\n",
    "        . : Any single character\n",
    "        | : OR\n",
    "    \"\"\"\n",
    "    precedence = {'*': 5, '+': 4, '?': 3, '.': 2, '|': 1}\n",
    "    \n",
    "    precedence = {\n",
    "    '*': 6,  # 0 or more repetition\n",
    "    '+': 5,  # 1 or more repetition\n",
    "    '?': 4,  # optional (exists or not)\n",
    "    '#': 3,  # concatenation operator\n",
    "    '.': 2,  # any single character\n",
    "    '|': 1   # OR operator\n",
    "    }\n",
    "    \n",
    "    # postfix_output queue and operator stack\n",
    "    postfix_output = []\n",
    "    stack = []\n",
    "\n",
    "    # Process each character in the input\n",
    "    i = 0\n",
    "    while i < len(input_regex):\n",
    "        char = input_regex[i]\n",
    "        if char == '(':\n",
    "            stack.append(char)\n",
    "        elif char == ')':\n",
    "            while stack and stack[-1] != '(':\n",
    "                postfix_output.append(stack.pop())\n",
    "            # check stack error if ')' is not have openning '('\n",
    "            if not stack:\n",
    "                return None\n",
    "            stack.pop()  # Remove the '('\n",
    "        elif char in precedence:\n",
    "            while stack and stack[-1] in precedence and precedence[char] <= precedence[stack[-1]]:\n",
    "                postfix_output.append(stack.pop())\n",
    "            stack.append(char)\n",
    "        else:\n",
    "            postfix_output.append(char)\n",
    "        i += 1\n",
    "\n",
    "    # Pop remaining operators from the stack to the postfix_output\n",
    "    while stack:\n",
    "        # check stack error if there is still '(' in the stack so it won't have a close ')'\n",
    "        if stack[-1] == '(':\n",
    "            return None\n",
    "        postfix_output.append(stack.pop())\n",
    "\n",
    "    # Return the postfix_output as a string\n",
    "    return ''.join(postfix_output)\n"
   ]
  },
  {
   "cell_type": "markdown",
   "metadata": {},
   "source": [
    "### 5. Convert postfix regex to NFA using thomson's rule"
   ]
  },
  {
   "cell_type": "code",
   "execution_count": null,
   "metadata": {},
   "outputs": [],
   "source": []
  },
  {
   "cell_type": "markdown",
   "metadata": {},
   "source": [
    "### 6. Convert NFA to DFA using subset construction \n"
   ]
  },
  {
   "cell_type": "code",
   "execution_count": null,
   "metadata": {},
   "outputs": [],
   "source": []
  },
  {
   "cell_type": "markdown",
   "metadata": {},
   "source": [
    "### 7. Convert to minimized DFA"
   ]
  },
  {
   "cell_type": "code",
   "execution_count": null,
   "metadata": {},
   "outputs": [],
   "source": []
  },
  {
   "cell_type": "markdown",
   "metadata": {},
   "source": [
    "### 8. Visualizations"
   ]
  },
  {
   "cell_type": "code",
   "execution_count": null,
   "metadata": {},
   "outputs": [],
   "source": []
  },
  {
   "cell_type": "markdown",
   "metadata": {},
   "source": [
    "### Testing"
   ]
  },
  {
   "cell_type": "code",
   "execution_count": 15,
   "metadata": {},
   "outputs": [
    {
     "name": "stdout",
     "output_type": "stream",
     "text": [
      "BAM(a|b|c|d|A|B|C|D|9)(ABC)(x|y|z)?ABC(a)(a|b)(FA)(BC)?\n",
      "BAMab|c|d|A|B|C|D|9|ABCxy|z|ABCaab|FABC??\n"
     ]
    }
   ],
   "source": [
    "\n",
    "ff = \"(asjnd[0-9])|(h4d2*|33+as449d|[2-9a-z(az)*])\"\n",
    "ss = \"BAM[a-dA-D9](ABC)[x-z]?ABC(a)[a-b](FA)(BC)?\"\n",
    "\n",
    "input_regex = preprocess_regex(ss)\n",
    "\n",
    "print(shunting_yard(input_regex))\n",
    "\n"
   ]
  }
 ],
 "metadata": {
  "kernelspec": {
   "display_name": "base",
   "language": "python",
   "name": "python3"
  },
  "language_info": {
   "codemirror_mode": {
    "name": "ipython",
    "version": 3
   },
   "file_extension": ".py",
   "mimetype": "text/x-python",
   "name": "python",
   "nbconvert_exporter": "python",
   "pygments_lexer": "ipython3",
   "version": "3.9.18"
  }
 },
 "nbformat": 4,
 "nbformat_minor": 2
}
