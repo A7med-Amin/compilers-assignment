{
 "cells": [
  {
   "cell_type": "markdown",
   "metadata": {},
   "source": [
    "# Programming Assignment"
   ]
  },
  {
   "cell_type": "markdown",
   "metadata": {},
   "source": [
    "### 1. Libraries"
   ]
  },
  {
   "cell_type": "code",
   "execution_count": 28,
   "metadata": {},
   "outputs": [],
   "source": [
    "import re\n",
    "import networkx as nx"
   ]
  },
  {
   "cell_type": "markdown",
   "metadata": {},
   "source": [
    "\n",
    "### 2. Read the input and check for a valid regex"
   ]
  },
  {
   "cell_type": "code",
   "execution_count": 29,
   "metadata": {},
   "outputs": [
    {
     "data": {
      "text/plain": [
       "re.compile(r'a?(a|b)*?b', re.UNICODE)"
      ]
     },
     "execution_count": 29,
     "metadata": {},
     "output_type": "execute_result"
    }
   ],
   "source": [
    "# Read the input from the user \n",
    "input_regex = r\"a?(a|b)*?b\"\n",
    "\n",
    "# Check on the input is a valid regex\n",
    "\n",
    "re.compile(input_regex)\n"
   ]
  },
  {
   "cell_type": "markdown",
   "metadata": {},
   "source": [
    "### 3. Preprocessing \n",
    "<P>Remove square brackets and replace it with <b>OR</b>ing</P>\n",
    "<P>Add concatenation character</P>\n"
   ]
  },
  {
   "cell_type": "code",
   "execution_count": 30,
   "metadata": {},
   "outputs": [],
   "source": [
    "def find_square_bracket_ranges(regex):\n",
    "    ranges = []\n",
    "    start = -1\n",
    "    for i, char in enumerate(regex):\n",
    "        if char == \"[\":\n",
    "            if start == -1:\n",
    "                start = i + 1\n",
    "        elif char == \"]\":\n",
    "            if start != -1:\n",
    "                ranges.append((start, i))\n",
    "                start = -1\n",
    "                \n",
    "    return ranges\n",
    "\n",
    "\n",
    "def split_ranges(s: str):\n",
    "    expanded_string = \"\"\n",
    "    it = iter(enumerate(s))\n",
    "    for i, char in it:\n",
    "        if i + 1 != len(s) and s[i + 1] == \"-\":\n",
    "            temp_str = \"\"\n",
    "            start_symbol = char\n",
    "            end_symbol = s[i + 2]\n",
    "            ascii_range = ord(end_symbol) - ord(start_symbol) + 1\n",
    "            for i in range(ascii_range):\n",
    "                temp_str += chr(ord(start_symbol) + i) + \"|\"\n",
    "            expanded_string += temp_str\n",
    "            [next(it) for _ in range(2)]\n",
    "        elif char != \"-\":\n",
    "            expanded_string += char + \"|\"\n",
    "\n",
    "    return expanded_string[:-1]\n",
    "\n",
    "\n",
    "CONCAT_SYMBOL = \"#\"\n",
    "\n",
    "\n",
    "def insert_concat_symbol_2(regex):\n",
    "    result = \"\"\n",
    "    inside_brackets = False\n",
    "    for i in range(len(regex)):\n",
    "        if regex[i] == \"[\":\n",
    "            inside_brackets = True\n",
    "        elif regex[i] == \"]\":\n",
    "            inside_brackets = False\n",
    "\n",
    "        if (\n",
    "            not inside_brackets\n",
    "            and i < len(regex) - 1\n",
    "            and regex[i] != \"(\"\n",
    "            # and regex[i + 1] != \"(\"\n",
    "            # and regex[i] != \")\"\n",
    "            and regex[i + 1] != \")\"\n",
    "            and regex[i + 1] not in [\"?\", \".\", \"*\", \"|\", \"+\"]\n",
    "            and regex[i] not in [\"?\", \".\", \"*\", \"|\", \"+\"]\n",
    "        ):\n",
    "            result += regex[i] + CONCAT_SYMBOL\n",
    "        else:\n",
    "            result += regex[i]\n",
    "    return result\n",
    "\n",
    "def preprocess_regex_2(regex):\n",
    "    # Preprocess ranges\n",
    "    ranges = find_square_bracket_ranges(regex)\n",
    "    expanded_ranges = []\n",
    "    for start, end in ranges:\n",
    "        expanded_ranges.append(split_ranges(regex[start:end]))\n",
    "    # Replace ranges with expanded ranges\n",
    "    inside_square_brackets = False\n",
    "    inserted_expanded_range = False\n",
    "    bracket_count = 0\n",
    "    new_regex = \"\"\n",
    "\n",
    "    for char in regex:\n",
    "        if char == \"[\":\n",
    "            bracket_count += 1\n",
    "            inside_square_brackets = True\n",
    "            new_regex += \"(\"\n",
    "        elif char == \"]\":\n",
    "            inside_square_brackets = False\n",
    "            inserted_expanded_range = False\n",
    "            new_regex += \")\"\n",
    "        elif not inside_square_brackets:\n",
    "            new_regex += char\n",
    "        elif inside_square_brackets and not inserted_expanded_range:\n",
    "            new_regex += expanded_ranges[bracket_count - 1]\n",
    "            inserted_expanded_range = True\n",
    "    new_regex = insert_concat_symbol_2(new_regex)\n",
    "    print(new_regex)\n",
    "    return new_regex\n"
   ]
  },
  {
   "cell_type": "code",
   "execution_count": 34,
   "metadata": {},
   "outputs": [],
   "source": [
    "\n",
    "CONCAT_SYMBOL = \"#\"\n",
    "\n",
    "\n",
    "def insert_concat_symbol(regex):\n",
    "    result = \"\"\n",
    "    operators = [\"?\", \".\", \"*\", \"|\", \"+\"]\n",
    "    for i in range(len(regex)):\n",
    "        if (\n",
    "            i < len(regex) - 1\n",
    "            and regex[i + 1] not in operators\n",
    "            and regex[i] not in operators\n",
    "            and regex[i] != \"(\"\n",
    "            and regex[i + 1] != \")\"\n",
    "        ):\n",
    "            result += regex[i] + CONCAT_SYMBOL\n",
    "        else:\n",
    "            result += regex[i]      \n",
    "    return result\n",
    "\n",
    "\n",
    "def preprocess_regex(regex):\n",
    "    new_regex = \"\"\n",
    "    skip = -1\n",
    "    for i, char in enumerate(regex):\n",
    "        if i <= skip:\n",
    "            continue\n",
    "        if char == \"[\":\n",
    "            end = regex.find(']', i)  # Find the end of the bracketed expression\n",
    "            if end == -1:\n",
    "                raise ValueError('Mismatched brackets')  # Raise an error if there is no matching close bracket\n",
    "            # Handle ranges within the bracketed expression\n",
    "            bracketed = regex[i+1:end]\n",
    "            if '-' in bracketed:\n",
    "                new_bracketed = \"\"\n",
    "                splited_bracketed = bracketed.split('-')\n",
    "                for j, _ in enumerate(splited_bracketed):\n",
    "                    if j + 1 != len(splited_bracketed):\n",
    "                        range_start = splited_bracketed[j]\n",
    "                        range_end = splited_bracketed[j + 1]\n",
    "                        ascii_range = ord(range_end[0]) - ord(range_start[-1])\n",
    "                        range_symbols = \"\"\n",
    "                        for k in range(ascii_range):\n",
    "                            if k != 0:\n",
    "                                range_symbols += chr(ord(range_start[-1]) + k) + \"|\"\n",
    "                        if j == 0:\n",
    "                            len_range_start = len(range_start)\n",
    "                            for k, ch in enumerate(range_start):\n",
    "                                if k == len_range_start - 1:\n",
    "                                    new_bracketed += ch\n",
    "                                    continue\n",
    "                                new_bracketed += ch + \"|\"\n",
    "                        new_bracketed += \"|\" + range_symbols \n",
    "                        for k, ch in enumerate(range_end):\n",
    "                            if k == 0:\n",
    "                                new_bracketed += ch\n",
    "                                continue\n",
    "                            new_bracketed += \"|\" + ch\n",
    "            new_regex += f\"({new_bracketed})\"  # Treat the entire bracketed expression as a single character\n",
    "            skip = end      # Skip to the end of the bracketed expression\n",
    "        else:\n",
    "            new_regex += char\n",
    "    new_regex = insert_concat_symbol(new_regex)        \n",
    "    print(new_regex)\n",
    "    return new_regex            \n"
   ]
  },
  {
   "cell_type": "markdown",
   "metadata": {},
   "source": [
    "### 4. Shunting yard algorithm \n",
    "<P>Convert infix regex to postfix regex</P>"
   ]
  },
  {
   "cell_type": "code",
   "execution_count": 32,
   "metadata": {},
   "outputs": [],
   "source": [
    "def shunting_yard(input_regex):\n",
    "    # Define precedence\n",
    "    \"\"\"\n",
    "        * : 0 or more repetition\n",
    "        + : 1 or more repetition\n",
    "        # : concatenation\n",
    "        . : Any single character\n",
    "        | : OR\n",
    "    \"\"\"\n",
    "    precedence = {'*': 5, '+': 4, '?': 3, '.': 2, '|': 1}\n",
    "    \n",
    "    precedence = {\n",
    "    '*': 6,  # 0 or more repetition\n",
    "    '+': 5,  # 1 or more repetition\n",
    "    '?': 4,  # optional (exists or not)\n",
    "    '#': 3,  # concatenation operator\n",
    "    '.': 2,  # any single character\n",
    "    '|': 1   # OR operator\n",
    "    }\n",
    "    \n",
    "    # postfix_output queue and operator operator_stack\n",
    "    postfix_output = []\n",
    "    operator_stack = []\n",
    "\n",
    "    # Process each character in the input\n",
    "    i = 0\n",
    "    while i < len(input_regex):\n",
    "        char = input_regex[i]\n",
    "        if char == '(':\n",
    "            operator_stack.append(char)\n",
    "        elif char == ')':\n",
    "            while operator_stack and operator_stack[-1] != '(':\n",
    "                postfix_output.append(operator_stack.pop())\n",
    "            # check operator_stack error if ')' is not have openning '('\n",
    "            if not operator_stack:\n",
    "                return None\n",
    "            operator_stack.pop()  # Remove the '('\n",
    "        elif char in precedence:\n",
    "            while operator_stack and operator_stack[-1] in precedence and precedence[char] <= precedence[operator_stack[-1]]:\n",
    "                postfix_output.append(operator_stack.pop())\n",
    "            operator_stack.append(char)\n",
    "        else:\n",
    "            postfix_output.append(char)\n",
    "        i += 1\n",
    "\n",
    "    # Pop remaining operators from the operator_stack to the postfix_output\n",
    "    while operator_stack:\n",
    "        # check operator_stack error if there is still '(' in the operator_stack so it won't have a close ')'\n",
    "        if operator_stack[-1] == '(':\n",
    "            return None\n",
    "        postfix_output.append(operator_stack.pop())\n",
    "\n",
    "    # Return the postfix_output as a string\n",
    "    return ''.join(postfix_output)\n"
   ]
  },
  {
   "cell_type": "markdown",
   "metadata": {},
   "source": [
    "### 5. Convert postfix regex to NFA using thomson's rule"
   ]
  },
  {
   "cell_type": "code",
   "execution_count": null,
   "metadata": {},
   "outputs": [],
   "source": []
  },
  {
   "cell_type": "markdown",
   "metadata": {},
   "source": [
    "### 6. Convert NFA to DFA using subset construction \n"
   ]
  },
  {
   "cell_type": "code",
   "execution_count": null,
   "metadata": {},
   "outputs": [],
   "source": []
  },
  {
   "cell_type": "markdown",
   "metadata": {},
   "source": [
    "### 7. Convert to minimized DFA"
   ]
  },
  {
   "cell_type": "code",
   "execution_count": null,
   "metadata": {},
   "outputs": [],
   "source": []
  },
  {
   "cell_type": "markdown",
   "metadata": {},
   "source": [
    "### 8. Visualizations Graphiz"
   ]
  },
  {
   "cell_type": "code",
   "execution_count": null,
   "metadata": {},
   "outputs": [],
   "source": []
  },
  {
   "cell_type": "markdown",
   "metadata": {},
   "source": [
    "### Testing"
   ]
  },
  {
   "cell_type": "code",
   "execution_count": 37,
   "metadata": {},
   "outputs": [
    {
     "name": "stdout",
     "output_type": "stream",
     "text": [
      "B#A#M#(a|b|c|d|A|B|C|D|s|7|8|9)#(A#B#C)#(x|y|z)?A#B#C#(a)#(a|b)#(F#A)#(B#C)?\n",
      "B#A#M#(a|b|c|d|A|B|C|D|s|7|8|9)#(A#B#C)#(x|y|z)?A#B#C#(a)#(a|b)#(F#A)#(B#C)?\n",
      "True\n",
      "BA#M#ab|c|d|A|B|C|D|s|7|8|9|#AB#C##xy|z|A?#B#C#a#ab|#FA##BC#?#\n"
     ]
    }
   ],
   "source": [
    "\n",
    "\n",
    "ff = \"(asjnd[0-9])|(h4d2*|33+as449d|[2-9a-z(az)*])\"\n",
    "ss = \"BAM[a-dA-Ds7-9](ABC)[x-z]?ABC(a)[a-b](FA)(BC)?\"\n",
    "\n",
    "# input_rege = preprocess_regex_2(ss)\n",
    "input_regex = preprocess_regex(ss)\n",
    "# print(input_regex == input_rege)\n",
    "\n",
    "\n",
    "print(shunting_yard(input_regex))\n",
    "\n"
   ]
  },
  {
   "cell_type": "code",
   "execution_count": null,
   "metadata": {},
   "outputs": [],
   "source": []
  }
 ],
 "metadata": {
  "kernelspec": {
   "display_name": "base",
   "language": "python",
   "name": "python3"
  },
  "language_info": {
   "codemirror_mode": {
    "name": "ipython",
    "version": 3
   },
   "file_extension": ".py",
   "mimetype": "text/x-python",
   "name": "python",
   "nbconvert_exporter": "python",
   "pygments_lexer": "ipython3",
   "version": "3.9.18"
  }
 },
 "nbformat": 4,
 "nbformat_minor": 2
}
